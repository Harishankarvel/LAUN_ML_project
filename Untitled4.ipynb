{
  "nbformat": 4,
  "nbformat_minor": 0,
  "metadata": {
    "colab": {
      "provenance": [],
      "authorship_tag": "ABX9TyP/FhyGZxVJI2VGybxaW7jT",
      "include_colab_link": true
    },
    "kernelspec": {
      "name": "python3",
      "display_name": "Python 3"
    },
    "language_info": {
      "name": "python"
    }
  },
  "cells": [
    {
      "cell_type": "markdown",
      "metadata": {
        "id": "view-in-github",
        "colab_type": "text"
      },
      "source": [
        "<a href=\"https://colab.research.google.com/github/Harishankarvel/LAUN_ML_project/blob/main/Untitled4.ipynb\" target=\"_parent\"><img src=\"https://colab.research.google.com/assets/colab-badge.svg\" alt=\"Open In Colab\"/></a>"
      ]
    },
    {
      "cell_type": "code",
      "execution_count": 1,
      "metadata": {
        "colab": {
          "base_uri": "https://localhost:8080/",
          "height": 1000
        },
        "id": "ECNckumkf-q8",
        "outputId": "cc871e90-7ff1-48dd-eda3-cc4dc666042e"
      },
      "outputs": [
        {
          "output_type": "stream",
          "name": "stdout",
          "text": [
            "Dataset 'ODI.csv' loaded successfully.\n",
            "\n",
            "--- Data with Engineered Features (Last 5 Matches) ---\n",
            "           Date     Opponent  Opponent_Strength  India_Won\n",
            "4508 2023-01-21  New Zealand          46.027743          1\n",
            "4510 2023-01-24  New Zealand          46.027743          1\n",
            "4537 2023-03-17    Australia          60.802469          1\n",
            "4540 2023-03-19    Australia          60.802469          0\n",
            "4544 2023-03-22    Australia          60.802469          0\n",
            "\n",
            "Training data shape: (765, 1)\n",
            "Testing data shape: (255, 1)\n",
            "\n",
            "--- Model Evaluation ---\n",
            "Accuracy: 58.43%\n",
            "\n",
            "Classification Report:\n",
            "              precision    recall  f1-score   support\n",
            "\n",
            "        Loss       0.57      0.51      0.54       121\n",
            "         Win       0.60      0.65      0.62       134\n",
            "\n",
            "    accuracy                           0.58       255\n",
            "   macro avg       0.58      0.58      0.58       255\n",
            "weighted avg       0.58      0.58      0.58       255\n",
            "\n",
            "\n",
            "Confusion Matrix:\n"
          ]
        },
        {
          "output_type": "display_data",
          "data": {
            "text/plain": [
              "<Figure size 800x600 with 2 Axes>"
            ],
            "image/png": "[encoded data removed]"
          },
          "metadata": {}
        },
        {
          "output_type": "stream",
          "name": "stdout",
          "text": [
            "\n",
            "--- Hypothetical Match Prediction ---\n",
            "Match: India vs. Australia\n",
            "Opponent (Australia) Strength Score: 60.80\n",
            "Predicted Outcome: Loss\n",
            "Model's Confidence (Probability of Win): 34.01%\n"
          ]
        }
      ],
      "source": [
        "import pandas as pd\n",
        "import numpy as np\n",
        "from sklearn.model_selection import train_test_split\n",
        "from sklearn.linear_model import LogisticRegression\n",
        "from sklearn.metrics import accuracy_score, confusion_matrix, classification_report\n",
        "import matplotlib.pyplot as plt\n",
        "import seaborn as sns\n",
        "\n",
        "# --- 1. Data Loading and Initial Cleaning ---\n",
        "try:\n",
        "    # This will now find the 'ODI.csv' file you uploaded\n",
        "    df_raw = pd.read_csv('ODI.csv')\n",
        "    print(\"Dataset 'ODI.csv' loaded successfully.\")\n",
        "except FileNotFoundError:\n",
        "    print(\"Error: 'ODI.csv' not found. Please ensure the file is uploaded to your Colab session.\")\n",
        "    exit()\n",
        "\n",
        "# Rename columns for consistency\n",
        "df_raw.rename(columns={'Team_1': 'Team 1', 'Team_2': 'Team 2'}, inplace=True)\n",
        "\n",
        "# Convert 'Match Date' column and handle potential errors\n",
        "df_raw['Date'] = pd.to_datetime(df_raw['Match Date'], errors='coerce')\n",
        "df_raw.dropna(subset=['Date', 'Winner', 'Team 1', 'Team 2'], inplace=True)\n",
        "\n",
        "# --- 2. Feature Engineering ---\n",
        "# Calculate historical win percentages for all teams as a \"strength\" metric\n",
        "all_teams = pd.unique(df_raw[['Team 1', 'Team 2']].values.ravel('K'))\n",
        "team_wins = df_raw['Winner'].value_counts()\n",
        "team_matches = pd.concat([df_raw['Team 1'], df_raw['Team 2']]).value_counts()\n",
        "team_win_percentage = (team_wins / team_matches).fillna(0) * 100\n",
        "team_strength = team_win_percentage.to_dict()\n",
        "\n",
        "# Isolate all matches played by India\n",
        "df_india = df_raw[(df_raw['Team 1'] == 'India') | (df_raw['Team 2'] == 'India')].copy()\n",
        "\n",
        "# a) Create the target variable 'India_Won' (1 for win, 0 for loss)\n",
        "df_india['India_Won'] = (df_india['Winner'] == 'India').astype(int)\n",
        "\n",
        "# b) Create 'Opponent' feature\n",
        "df_india['Opponent'] = df_india.apply(lambda row: row['Team 2'] if row['Team 1'] == 'India' else row['Team 1'], axis=1)\n",
        "\n",
        "# c) Create 'Opponent_Strength' feature\n",
        "df_india['Opponent_Strength'] = df_india['Opponent'].map(team_strength)\n",
        "\n",
        "print(\"\\n--- Data with Engineered Features (Last 5 Matches) ---\")\n",
        "print(df_india[['Date', 'Opponent', 'Opponent_Strength', 'India_Won']].tail())\n",
        "\n",
        "# --- 3. Data Preparation for Modeling ---\n",
        "# The model will only use Opponent_Strength as a feature\n",
        "features = ['Opponent_Strength']\n",
        "target = 'India_Won'\n",
        "df_model = df_india[features + [target]].copy()\n",
        "df_model.dropna(inplace=True)\n",
        "\n",
        "X = df_model[features]\n",
        "y = df_model[target]\n",
        "\n",
        "# Split the data into training and testing sets\n",
        "X_train, X_test, y_train, y_test = train_test_split(X, y, test_size=0.25, random_state=42, stratify=y)\n",
        "\n",
        "print(f\"\\nTraining data shape: {X_train.shape}\")\n",
        "print(f\"Testing data shape: {X_test.shape}\")\n",
        "\n",
        "# --- 4. Model Training and Evaluation ---\n",
        "model = LogisticRegression(random_state=42)\n",
        "model.fit(X_train, y_train)\n",
        "\n",
        "# Make predictions on the test set\n",
        "y_pred = model.predict(X_test)\n",
        "accuracy = accuracy_score(y_test, y_pred)\n",
        "print(\"\\n--- Model Evaluation ---\")\n",
        "print(f\"Accuracy: {accuracy:.2%}\")\n",
        "\n",
        "print(\"\\nClassification Report:\")\n",
        "print(classification_report(y_test, y_pred, target_names=['Loss', 'Win']))\n",
        "\n",
        "print(\"\\nConfusion Matrix:\")\n",
        "cm = confusion_matrix(y_test, y_pred)\n",
        "plt.figure(figsize=(8, 6))\n",
        "sns.heatmap(cm, annot=True, fmt='d', cmap='Blues', xticklabels=['Predicted Loss', 'Predicted Win'], yticklabels=['Actual Loss', 'Actual Win'])\n",
        "plt.ylabel('Actual')\n",
        "plt.xlabel('Predicted')\n",
        "plt.title('Confusion Matrix')\n",
        "plt.show()\n",
        "\n",
        "# --- 5. Prediction on a Hypothetical Future Match ---\n",
        "try:\n",
        "    aus_strength = team_strength['Australia']\n",
        "except KeyError:\n",
        "    print(\"\\nWarning: 'Australia' not found. Using an average strength value.\")\n",
        "    aus_strength = np.mean(list(team_strength.values()))\n",
        "\n",
        "hypothetical_match = pd.DataFrame({'Opponent_Strength': [aus_strength]})\n",
        "predicted_outcome = model.predict(hypothetical_match)[0]\n",
        "win_probability = model.predict_proba(hypothetical_match)[0][1]\n",
        "\n",
        "print(\"\\n--- Hypothetical Match Prediction ---\")\n",
        "print(f\"Match: India vs. Australia\")\n",
        "print(f\"Opponent (Australia) Strength Score: {aus_strength:.2f}\")\n",
        "print(f\"Predicted Outcome: {'Win' if predicted_outcome == 1 else 'Loss'}\")\n",
        "print(f\"Model's Confidence (Probability of Win): {win_probability:.2%}\")"
      ]
    },
    {
      "cell_type": "markdown",
      "source": [
        "# New Section"
      ],
      "metadata": {
        "id": "2At_lFFGhbPa"
      }
    }
  ]
}